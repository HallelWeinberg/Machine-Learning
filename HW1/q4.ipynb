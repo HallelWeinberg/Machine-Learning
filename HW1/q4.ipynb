{
  "nbformat": 4,
  "nbformat_minor": 0,
  "metadata": {
    "colab": {
      "provenance": []
    },
    "kernelspec": {
      "name": "python3",
      "display_name": "Python 3"
    },
    "language_info": {
      "name": "python"
    }
  },
  "cells": [
    {
      "cell_type": "markdown",
      "source": [
        "#**HW 1**\n",
        "We implemented a basic Naïve Bayes classifier, and used it to classify sentences into 8 categories."
      ],
      "metadata": {
        "id": "DjaRCtPK3tsW"
      }
    },
    {
      "cell_type": "code",
      "source": [
        "import numpy as np\n",
        "from numpy import log"
      ],
      "metadata": {
        "id": "Rpzi7iKZ3Yf6"
      },
      "execution_count": null,
      "outputs": []
    },
    {
      "cell_type": "code",
      "source": [
        "def readTrainData(file_name):\n",
        "    file = open(file_name, 'r')\n",
        "    lines = file.readlines()\n",
        "    texAll = []\n",
        "    lbAll = []\n",
        "    voc = []\n",
        "    for line in lines:\n",
        "        splitted = line.split('\\t')\n",
        "        lbAll.append(splitted[0])\n",
        "        texAll.append(splitted[1].split())\n",
        "        words = splitted[1].split()\n",
        "        for w in words:\n",
        "            voc.append(w)\n",
        "    voc = set(voc)\n",
        "    cat = set(lbAll)\n",
        "    return texAll, lbAll, voc, cat"
      ],
      "metadata": {
        "id": "9xQ1cnlt3bfF"
      },
      "execution_count": null,
      "outputs": []
    },
    {
      "cell_type": "code",
      "execution_count": null,
      "metadata": {
        "id": "aa27YPOZ2XvN"
      },
      "outputs": [],
      "source": [
        "texAll, lbAll, voc, cat = readTrainData('r8-train-stemmed.txt')\n",
        "texAll_test, lbAll_test, _, _ = readTrainData('r8-test-stemmed.txt')\n",
        "cat = sorted(cat)\n",
        "voc = sorted(voc)\n",
        "category = list(cat)\n",
        "voc_indices = {word: index for index, word in enumerate(list(voc))}\n",
        "num_cat = len(cat)"
      ]
    },
    {
      "cell_type": "code",
      "source": [
        "def learn_NB_text():\n",
        "\n",
        "    P = [lbAll.count(current_cat) for current_cat in cat]\n",
        "    P = np.array(P)\n",
        "    P = P / len(lbAll)\n",
        "\n",
        "    Pw_up = np.ones((len(voc) + 1, num_cat))\n",
        "    for given_category, sentence in zip(lbAll, texAll):\n",
        "        for word in sentence:\n",
        "            Pw_up[voc_indices[word], category.index(given_category)] += 1\n",
        "\n",
        "    sum_words_cat = [0] * num_cat\n",
        "    for given_category, sentence in zip(lbAll, texAll):\n",
        "        sum_words_cat[category.index(given_category)] += len(sentence)\n",
        "    Pw_down = np.array(sum_words_cat) + len(voc)\n",
        "\n",
        "    Pw = Pw_up / Pw_down\n",
        "    return Pw, P"
      ],
      "metadata": {
        "id": "guaBSVF83dw2"
      },
      "execution_count": null,
      "outputs": []
    },
    {
      "cell_type": "code",
      "source": [
        "def ClassifyNB_text(Pw, P):\n",
        "    lbAll_guess = [None] * len(texAll_test)\n",
        "    for i, sentence in enumerate(texAll_test):\n",
        "        decide_cat = log(P)\n",
        "        for word in sentence:\n",
        "            for given_category in cat:\n",
        "                if(word in voc_indices):\n",
        "                    decide_cat[category.index(given_category)] += log(\n",
        "                        Pw[voc_indices[word], category.index(given_category)])\n",
        "                else:\n",
        "                    decide_cat[category.index(given_category)] += log(\n",
        "                        Pw[-1, category.index(given_category)])\n",
        "        lbAll_guess[i] = category[list(decide_cat).index(max(list(decide_cat)))]\n",
        "\n",
        "    suc = 0\n",
        "    for label_guess, label_test in zip(lbAll_guess, lbAll_test):\n",
        "        if label_guess == label_test:\n",
        "            suc += 1\n",
        "    suc /= len(lbAll_test)\n",
        "    return suc"
      ],
      "metadata": {
        "id": "Dtp1Tb4h3gr-"
      },
      "execution_count": null,
      "outputs": []
    },
    {
      "cell_type": "code",
      "source": [
        "Pw, P = learn_NB_text()\n",
        "print(f\"Accuracy: {ClassifyNB_text(Pw, P)}\")"
      ],
      "metadata": {
        "colab": {
          "base_uri": "https://localhost:8080/"
        },
        "id": "RjOEi0na3jZK",
        "outputId": "434285e6-af69-4bf0-addc-752994168a08"
      },
      "execution_count": null,
      "outputs": [
        {
          "output_type": "stream",
          "name": "stdout",
          "text": [
            "Accuracy: 0.9643672910004568\n"
          ]
        }
      ]
    }
  ]
}