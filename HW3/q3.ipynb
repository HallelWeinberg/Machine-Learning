{
  "nbformat": 4,
  "nbformat_minor": 0,
  "metadata": {
    "colab": {
      "provenance": []
    },
    "kernelspec": {
      "name": "python3",
      "display_name": "Python 3"
    },
    "language_info": {
      "name": "python"
    }
  },
  "cells": [
    {
      "cell_type": "markdown",
      "source": [
        "# **Ensemble methods and Cross Validation**"
      ],
      "metadata": {
        "id": "ggoc7RX44o3Q"
      }
    },
    {
      "cell_type": "code",
      "source": [
        "import numpy as np\n",
        "import pandas as pd\n",
        "from sklearn.model_selection import train_test_split\n",
        "from collections import Counter\n",
        "import matplotlib.pyplot as plt"
      ],
      "metadata": {
        "id": "VHo6PgLe45YG"
      },
      "execution_count": 1,
      "outputs": []
    },
    {
      "cell_type": "markdown",
      "source": [
        "## Define the ID3 decision tree class"
      ],
      "metadata": {
        "id": "wjAopsX146fd"
      }
    },
    {
      "cell_type": "code",
      "execution_count": 2,
      "metadata": {
        "id": "t22XKHhr4mKh"
      },
      "outputs": [],
      "source": [
        "class DecisionTree:\n",
        "    def __init__(self, maxdepth=np.inf):\n",
        "        self.tree = {}\n",
        "        self.maxdepth = maxdepth\n",
        "\n",
        "    # Calculate the entropy of a given dataset, the distribution is over the target class.\n",
        "    def calculate_entropy(self, data):\n",
        "        labels = data.iloc[:, -1]\n",
        "        # Your code goes here\n",
        "        labels_distribution = np.sum(labels == 'unacc'), np.sum(labels == 'acc'), np.sum(labels == 'good'), np.sum(\n",
        "            labels == 'vgood')\n",
        "        labels_distribution = np.array(labels_distribution) / len(labels)\n",
        "        labels_entropy = -np.sum(labels_distribution * np.log(labels_distribution + 1e-10))\n",
        "        return labels_entropy\n",
        "\n",
        "    # Calculate the information gain of a feature based on its value\n",
        "    def calculate_information_gain(self, data, feature):\n",
        "        total_entropy = self.calculate_entropy(data)\n",
        "        information_gain = total_entropy\n",
        "\n",
        "        distincts = list(set(data[feature]))  # get the values of the feature\n",
        "\n",
        "        # Your code goes here\n",
        "        feature_entropy_distribution = np.array(\n",
        "            [np.sum(data[feature] == distinct) * self.calculate_entropy(self.filter_data(data, feature, distinct)) for\n",
        "             distinct in distincts])\n",
        "        feature_entropy_distribution /= data.shape[0]\n",
        "        information_gain -= np.sum(feature_entropy_distribution)\n",
        "        return information_gain\n",
        "\n",
        "    def filter_data(self, data, feature, value):\n",
        "        return data[data[feature] == value].drop(feature, axis=1)\n",
        "\n",
        "    def create_tree(self, data, depth=0):\n",
        "        # Recursive function to create the decision tree\n",
        "        labels = data.iloc[:, -1]\n",
        "\n",
        "        # Base case: if all labels are the same, return the label\n",
        "        if len(np.unique(labels)) == 1:\n",
        "            return list(labels)[0]\n",
        "\n",
        "        features = data.columns.tolist()[:-1]\n",
        "\n",
        "        # Base case: if there are no features left to split on, return the majority label\n",
        "        if len(features) == 0 or depth == self.maxdepth:\n",
        "            unique_labels, label_counts = np.unique(labels, return_counts=True)\n",
        "            majority_label = unique_labels[label_counts.argmax()]\n",
        "            return majority_label\n",
        "\n",
        "        selected_feature = None\n",
        "        best_gain = 0\n",
        "\n",
        "        # Select feature that maximizes gain\n",
        "        for feature in features:\n",
        "            gain = self.calculate_information_gain(data, feature)\n",
        "            if gain > best_gain:\n",
        "                selected_feature = feature\n",
        "                best_gain = gain\n",
        "\n",
        "        # Create the tree node\n",
        "        tree_node = {}\n",
        "\n",
        "        distincts = list(set(data[selected_feature]))\n",
        "        for value in distincts:\n",
        "            new_data = self.filter_data(data, selected_feature, value)\n",
        "            tree_node[(selected_feature, value)] = self.create_tree(new_data, depth + 1)\n",
        "\n",
        "        return tree_node\n",
        "\n",
        "    def fit(self, data):\n",
        "        self.tree = self.create_tree(data)\n",
        "\n",
        "    def predict(self, X):\n",
        "        X = [row[1] for row in X.iterrows()]\n",
        "\n",
        "        # Predict the labels for new data points\n",
        "        predictions = []\n",
        "\n",
        "        for row in X:\n",
        "            current_node = self.tree\n",
        "            while isinstance(current_node, dict):\n",
        "                split_condition = next(iter(current_node))\n",
        "                feature, value = split_condition\n",
        "                current_node = current_node[feature, row[feature]]\n",
        "            predictions.append(current_node)\n",
        "\n",
        "        return predictions\n",
        "\n",
        "    def _plot(self, tree, indent):\n",
        "        depth = 1\n",
        "        for key, value in tree.items():\n",
        "            if isinstance(value, dict):\n",
        "                print(\" \" * indent + str(key) + \":\")\n",
        "                depth = max(depth, 1 + self._plot(value, indent + 2))\n",
        "            else:\n",
        "                print(\" \" * indent + str(key) + \": \" + str(value))\n",
        "        return depth\n",
        "\n",
        "    def plot(self):\n",
        "        depth = self._plot(self.tree, 0)\n",
        "        print(f'depth is {depth}')"
      ]
    },
    {
      "cell_type": "code",
      "source": [
        "class RandomForest:\n",
        "    def __init__(self, maxdepth=np.inf, n_estimators=3, method='simple'):\n",
        "        self.forest = []\n",
        "        self.maxdepth = maxdepth\n",
        "        self.n_estimators = n_estimators\n",
        "        self.method = method\n",
        "\n",
        "    def select_features(self, data):\n",
        "        np.random.seed(40 + len(self.forest))\n",
        "\n",
        "        if self.method == 'sqrt':\n",
        "            m = int(np.sqrt(len(data.columns) - 1))\n",
        "        elif self.method == 'log':\n",
        "            m = int(np.log2(len(data.columns) - 1))\n",
        "        else:\n",
        "            m = np.random.randint(0, len(data.columns))\n",
        "\n",
        "        incidies = np.random.choice(np.arange(0, len(data.columns) - 1), size=m, replace=False)\n",
        "        features = list(data.columns[incidies])\n",
        "        return data[features + ['class']]\n",
        "\n",
        "    def fit(self, data):\n",
        "        self.forest = []\n",
        "\n",
        "        # Your code goes here\n",
        "        for i in range(self.n_estimators):\n",
        "            i_tree = DecisionTree(self.maxdepth)\n",
        "            i_tree.fit(self.select_features(data))\n",
        "            self.forest.append(i_tree)\n",
        "\n",
        "    def _predict(self, X):\n",
        "        # Predict the labels for new data points\n",
        "        predictions = []\n",
        "\n",
        "        preds = [tree.predict(X) for tree in self.forest]\n",
        "        preds = list(zip(*preds))\n",
        "        predictions = [Counter(est).most_common(1)[0][0] for est in preds]\n",
        "\n",
        "        return predictions\n",
        "\n",
        "    def score(self, X, sample_weight=None):\n",
        "        pred = self._predict(X)\n",
        "        return (pred == X.iloc[:, -1]).sum() / len(X)"
      ],
      "metadata": {
        "id": "52UDRg5w4-hK"
      },
      "execution_count": 3,
      "outputs": []
    },
    {
      "cell_type": "code",
      "source": [
        "def KFold(data, model, cv=5):\n",
        "    chunks = np.array_split(data, cv)\n",
        "    correct_sum = 0\n",
        "    # Your code goes here\n",
        "    for i in range(cv):\n",
        "        train_data_i = pd.concat(chunks[:i] + chunks[i+1:])\n",
        "        model.fit(train_data_i)\n",
        "        correct_sum += model.score(chunks[i])\n",
        "    return correct_sum / cv"
      ],
      "metadata": {
        "id": "uuBimCPW5Ezo"
      },
      "execution_count": 4,
      "outputs": []
    },
    {
      "cell_type": "code",
      "source": [
        "data = pd.read_csv('cars.csv')"
      ],
      "metadata": {
        "id": "SkdUwrHB5F3B"
      },
      "execution_count": 5,
      "outputs": []
    },
    {
      "cell_type": "code",
      "source": [
        "train, test = train_test_split(data, test_size=0.2, random_state=13)"
      ],
      "metadata": {
        "id": "CJqquO1g5HZM"
      },
      "execution_count": 6,
      "outputs": []
    },
    {
      "cell_type": "markdown",
      "source": [
        "## SECTION B"
      ],
      "metadata": {
        "id": "VvcZWEtg5JkV"
      }
    },
    {
      "cell_type": "markdown",
      "source": [
        "Run single decision tree:"
      ],
      "metadata": {
        "id": "6ES-dEav5Nzj"
      }
    },
    {
      "cell_type": "code",
      "source": [
        "tree = DecisionTree(maxdepth=3)\n",
        "tree.fit(train)\n",
        "\n",
        "pred = tree.predict(train)\n",
        "acc = (pred == train.iloc[:,-1]).sum() / len(train)\n",
        "print(f'Decision Tree Training accuracy is {acc}')\n",
        "\n",
        "pred = tree.predict(test)\n",
        "acc = (pred == test.iloc[:,-1]).sum() / len(test)\n",
        "print(f'Decision Tree Test accuracy is {acc}')\n",
        "print()"
      ],
      "metadata": {
        "colab": {
          "base_uri": "https://localhost:8080/"
        },
        "id": "p6fEgSbC5LiK",
        "outputId": "5f7f807a-1f22-4675-a8e5-a1a37a58f06d"
      },
      "execution_count": 7,
      "outputs": [
        {
          "output_type": "stream",
          "name": "stdout",
          "text": [
            "Decision Tree Training accuracy is 0.8147612156295224\n",
            "Decision Tree Test accuracy is 0.838150289017341\n",
            "\n"
          ]
        }
      ]
    },
    {
      "cell_type": "markdown",
      "source": [
        "Run random forest:"
      ],
      "metadata": {
        "id": "9df0hQJk5S4w"
      }
    },
    {
      "cell_type": "code",
      "source": [
        "forest = RandomForest(maxdepth=3, n_estimators=5, method='simple')\n",
        "forest.fit(train)\n",
        "\n",
        "acc = forest.score(train)\n",
        "print(f'Random Forest Training accuracy is {acc}')\n",
        "\n",
        "acc = forest.score(test)\n",
        "print(f'Random Forest Test accuracy is {acc}')"
      ],
      "metadata": {
        "colab": {
          "base_uri": "https://localhost:8080/"
        },
        "id": "T17CNjpB5S_c",
        "outputId": "cd04f758-ed7f-4ecb-a645-d039f4946b62"
      },
      "execution_count": 8,
      "outputs": [
        {
          "output_type": "stream",
          "name": "stdout",
          "text": [
            "Random Forest Training accuracy is 0.808972503617945\n",
            "Random Forest Test accuracy is 0.8439306358381503\n"
          ]
        }
      ]
    },
    {
      "cell_type": "markdown",
      "source": [
        "## SECTION C"
      ],
      "metadata": {
        "id": "dRIjdw2T5WxK"
      }
    },
    {
      "cell_type": "code",
      "source": [
        "correct = []\n",
        "\n",
        "for i in range(1, 8):\n",
        "    forest = RandomForest(maxdepth=3, n_estimators=i, method='simple')\n",
        "    correct.append(KFold(data=train, model=forest, cv=5))\n",
        "\n",
        "plt.plot(range(1,8), np.array(correct))\n",
        "plt.xlabel('trees num')\n",
        "plt.ylabel('avg accuracy')\n",
        "plt.show()"
      ],
      "metadata": {
        "colab": {
          "base_uri": "https://localhost:8080/",
          "height": 449
        },
        "id": "yD-K1kNx5Yi2",
        "outputId": "610e8b48-34f4-4588-fbfc-e99b62df3987"
      },
      "execution_count": 9,
      "outputs": [
        {
          "output_type": "display_data",
          "data": {
            "text/plain": [
              "<Figure size 640x480 with 1 Axes>"
            ],
            "image/png": "[encoded data removed]"
          },
          "metadata": {}
        }
      ]
    }
  ]
}