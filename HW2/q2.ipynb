{
  "nbformat": 4,
  "nbformat_minor": 0,
  "metadata": {
    "colab": {
      "provenance": []
    },
    "kernelspec": {
      "name": "python3",
      "display_name": "Python 3"
    },
    "language_info": {
      "name": "python"
    }
  },
  "cells": [
    {
      "cell_type": "markdown",
      "source": [
        "#**PCA and KNN**\n",
        "We implemented a KNN classifier using the Fashion-MNIST dataset and\n",
        "PCA."
      ],
      "metadata": {
        "id": "l7m0YK1ROt0H"
      }
    },
    {
      "cell_type": "code",
      "source": [
        "import pandas as pd\n",
        "import numpy as np\n",
        "import matplotlib.pyplot as plt\n",
        "from sklearn.metrics import pairwise_distances"
      ],
      "metadata": {
        "id": "EpVMZXnLPOvo"
      },
      "execution_count": null,
      "outputs": []
    },
    {
      "cell_type": "markdown",
      "source": [
        "## PCA"
      ],
      "metadata": {
        "id": "lZu-Of0ovhY1"
      }
    },
    {
      "cell_type": "code",
      "execution_count": null,
      "metadata": {
        "id": "DrFJ5CsdOo6p"
      },
      "outputs": [],
      "source": [
        "def plot_cdf(data):\n",
        "    sorted_data = np.sort(data)[::-1]\n",
        "\n",
        "    data_cumsum = np.cumsum(sorted_data)\n",
        "    data_normalized = data_cumsum / data_cumsum[-1]\n",
        "\n",
        "    # Plot the CDF of eigenvalues\n",
        "    plt.plot(np.arange(1, len(sorted_data)+1), data_normalized)\n",
        "    plt.xlabel('Principal Component')\n",
        "    plt.ylabel('Cumulative Proportion of Variance')\n",
        "    plt.title('Cumulative Distribution Function of Eigenvalues')\n",
        "    plt.show()"
      ]
    },
    {
      "cell_type": "code",
      "source": [
        "def fit_pca(X, n_components):\n",
        "    X_centered = X - np.mean(X, axis=0)\n",
        "    cov_matrix = np.cov(X_centered, rowvar=False)\n",
        "    eigenvalues, eigenvectors = np.linalg.eigh(cov_matrix)\n",
        "\n",
        "    sorted_indices = np.argsort(eigenvalues)[::-1]\n",
        "    eigenvectors = eigenvectors[:, sorted_indices]\n",
        "\n",
        "    # Choose the top k eigenvectors\n",
        "    principal_components = eigenvectors[:, :n_components]\n",
        "\n",
        "    return principal_components"
      ],
      "metadata": {
        "id": "-ZODFcq9PTGY"
      },
      "execution_count": null,
      "outputs": []
    },
    {
      "cell_type": "code",
      "source": [
        "def pca_transform(X, principal_components):\n",
        "    X_centered = X - np.mean(X, axis=0)\n",
        "    transformed_data = np.dot(X_centered, principal_components)\n",
        "    return transformed_data"
      ],
      "metadata": {
        "id": "j2PxQVbFPYDa"
      },
      "execution_count": null,
      "outputs": []
    },
    {
      "cell_type": "code",
      "source": [
        "def pca_inverse_transform(X_transformed, principal_components, X):\n",
        "    X_reconstructed = np.dot(X_transformed, principal_components.T)\n",
        "    X_reconstructed += np.mean(X, axis=0)\n",
        "    return X_reconstructed"
      ],
      "metadata": {
        "id": "pBiIW68rPZL3"
      },
      "execution_count": null,
      "outputs": []
    },
    {
      "cell_type": "markdown",
      "source": [
        "## KNN Predict"
      ],
      "metadata": {
        "id": "WMhCH0SyvmX3"
      }
    },
    {
      "cell_type": "code",
      "source": [
        "def knn_predict(X_train, y_train, X_test, k):\n",
        "    # Compute pairwise distances between test samples and training samples\n",
        "    distances = pairwise_distances(X_test, X_train, metric='euclidean')\n",
        "\n",
        "    # Find the k nearest neighbors for each test sample\n",
        "    nearest_indices = np.argpartition(distances, k, axis=1)[:, :k]\n",
        "    nearest_labels = y_train[nearest_indices]\n",
        "\n",
        "    # Count the occurrences of each label in the nearest neighbors\n",
        "    label_counts = np.apply_along_axis(lambda x: np.bincount(x, minlength=np.max(y_train)+1), axis=1, arr=nearest_labels)\n",
        "    y_pred = np.argmax(label_counts, axis=1)\n",
        "\n",
        "    return y_pred"
      ],
      "metadata": {
        "id": "dqisjeWxPaW7"
      },
      "execution_count": null,
      "outputs": []
    },
    {
      "cell_type": "markdown",
      "source": [
        "## Part 1: Load the dataset and display a random image"
      ],
      "metadata": {
        "id": "lFzs24BiPf_6"
      }
    },
    {
      "cell_type": "code",
      "source": [
        "train_data = pd.read_csv('fashion-mnist_train.csv')\n",
        "test_data = pd.read_csv('fashion-mnist_test.csv')\n",
        "\n",
        "random_index = np.random.randint(0, len(train_data))\n",
        "random_image = train_data.iloc[random_index, 1:].values.reshape(28, 28)\n",
        "plt.imshow(random_image, cmap='gray')\n",
        "plt.axis('off')\n",
        "plt.show()\n",
        "\n",
        "X_train = train_data.iloc[:, 1:].values\n",
        "y_train = train_data.iloc[:, 0].values\n",
        "\n",
        "X_test = test_data.iloc[:, 1:].values\n",
        "y_test = test_data.iloc[:, 0].values"
      ],
      "metadata": {
        "colab": {
          "base_uri": "https://localhost:8080/",
          "height": 406
        },
        "id": "GsncqWY7PjtB",
        "outputId": "7350d2e0-fa5e-44fa-b1af-69ff2349db84"
      },
      "execution_count": null,
      "outputs": [
        {
          "output_type": "display_data",
          "data": {
            "text/plain": [
              "<Figure size 640x480 with 1 Axes>"
            ],
            "image/png": "[encoded data removed]"
          },
          "metadata": {}
        }
      ]
    },
    {
      "cell_type": "markdown",
      "source": [
        "## Part 2: Use PCA to reduce the dimension of the images"
      ],
      "metadata": {
        "id": "3TDlr02oPkEU"
      }
    },
    {
      "cell_type": "code",
      "source": [
        "n_components = 81\n"
      ],
      "metadata": {
        "id": "zdhzj1S6PWgt"
      },
      "execution_count": null,
      "outputs": []
    },
    {
      "cell_type": "markdown",
      "source": [
        "Fit PCA on the training set:"
      ],
      "metadata": {
        "id": "i_kTKs40v1kD"
      }
    },
    {
      "cell_type": "code",
      "source": [
        "principal_components = fit_pca(X_train, n_components)"
      ],
      "metadata": {
        "id": "-rRfI2sRv1rj"
      },
      "execution_count": null,
      "outputs": []
    },
    {
      "cell_type": "markdown",
      "source": [
        "Apply PCA to both training and test sets:"
      ],
      "metadata": {
        "id": "cT0iLRY8v65s"
      }
    },
    {
      "cell_type": "code",
      "source": [
        "X_train_pca = pca_transform(X_train, principal_components)\n",
        "X_test_pca = pca_transform(X_test, principal_components)"
      ],
      "metadata": {
        "id": "BEZRdDatv3FX"
      },
      "execution_count": null,
      "outputs": []
    },
    {
      "cell_type": "markdown",
      "source": [
        "## Part 3: Apply PCA to a random image and recover the original size"
      ],
      "metadata": {
        "id": "SFHzTMP4PqCi"
      }
    },
    {
      "cell_type": "code",
      "source": [
        "random_index = np.random.randint(0, len(X_train))\n",
        "random_image = X_train[random_index].reshape(28, 28)\n",
        "\n",
        "compressed_image = pca_transform(random_image.flatten(), principal_components)\n",
        "recovered_image = pca_inverse_transform(compressed_image, principal_components, X_train).reshape(28, 28)"
      ],
      "metadata": {
        "id": "FXKOrf2gPqMb"
      },
      "execution_count": null,
      "outputs": []
    },
    {
      "cell_type": "markdown",
      "source": [
        "Plot the original, PCA-compressed, and recovered images:"
      ],
      "metadata": {
        "id": "fBgupZtpv_QO"
      }
    },
    {
      "cell_type": "code",
      "source": [
        "fig, axs = plt.subplots(1, 3, figsize=(10, 4))\n",
        "axs[0].imshow(random_image, cmap='gray')\n",
        "axs[0].set_title('Original Image')\n",
        "axs[0].axis('off')\n",
        "\n",
        "axs[1].imshow(compressed_image.reshape(9, 9), cmap='gray')\n",
        "axs[1].set_title('Compressed Image (PCA)')\n",
        "axs[1].axis('off')\n",
        "\n",
        "axs[2].imshow(recovered_image, cmap='gray')\n",
        "axs[2].set_title('Recovered Image')\n",
        "axs[2].axis('off')\n",
        "\n",
        "plt.tight_layout()\n",
        "plt.show()"
      ],
      "metadata": {
        "colab": {
          "base_uri": "https://localhost:8080/",
          "height": 372
        },
        "id": "AMcoAkMhwBor",
        "outputId": "608db4d9-a784-4495-f7b0-52e32436dd89"
      },
      "execution_count": null,
      "outputs": [
        {
          "output_type": "display_data",
          "data": {
            "text/plain": [
              "<Figure size 1000x400 with 3 Axes>"
            ],
            "image/png": "[encoded data removed]"
          },
          "metadata": {}
        }
      ]
    },
    {
      "cell_type": "markdown",
      "source": [
        "## Part 4: Plot the CDF"
      ],
      "metadata": {
        "id": "DEjo4wJUPve0"
      }
    },
    {
      "cell_type": "code",
      "source": [
        "eigenvalues = np.linalg.eigvalsh(np.cov(X_train.T))\n",
        "plot_cdf(eigenvalues)"
      ],
      "metadata": {
        "colab": {
          "base_uri": "https://localhost:8080/",
          "height": 472
        },
        "id": "mWmpidIlPyms",
        "outputId": "dfd41393-77e8-4455-d69f-8c6d73d7d135"
      },
      "execution_count": null,
      "outputs": [
        {
          "output_type": "display_data",
          "data": {
            "text/plain": [
              "<Figure size 640x480 with 1 Axes>"
            ],
            "image/png": "[encoded data removed]"
          },
          "metadata": {}
        }
      ]
    },
    {
      "cell_type": "markdown",
      "source": [
        "## Part 5: Train the model"
      ],
      "metadata": {
        "id": "nmAMtEX-PzA7"
      }
    },
    {
      "cell_type": "code",
      "source": [
        "k = 9\n",
        "y_pred = knn_predict(X_train_pca, y_train, X_test_pca, k)\n",
        "accuracy = np.mean(y_pred == y_test)"
      ],
      "metadata": {
        "id": "8tAW_iI9P2ho"
      },
      "execution_count": null,
      "outputs": []
    },
    {
      "cell_type": "markdown",
      "source": [
        "## Part 6: Print the accuracy"
      ],
      "metadata": {
        "id": "I1ALynxpP22j"
      }
    },
    {
      "cell_type": "code",
      "source": [
        "print(f\"Test accuracy is: {accuracy * 100}%\")"
      ],
      "metadata": {
        "id": "ObgKAls6PvpV",
        "colab": {
          "base_uri": "https://localhost:8080/"
        },
        "outputId": "aff19f54-a323-4e3d-f62d-8f5880f8a10d"
      },
      "execution_count": null,
      "outputs": [
        {
          "output_type": "stream",
          "name": "stdout",
          "text": [
            "Test accuracy is: 86.6%\n"
          ]
        }
      ]
    }
  ]
}