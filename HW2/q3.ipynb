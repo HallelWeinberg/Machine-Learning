{
  "nbformat": 4,
  "nbformat_minor": 0,
  "metadata": {
    "colab": {
      "provenance": []
    },
    "kernelspec": {
      "name": "python3",
      "display_name": "Python 3"
    },
    "language_info": {
      "name": "python"
    }
  },
  "cells": [
    {
      "cell_type": "markdown",
      "source": [
        "#**Logistic Regression**\n",
        "We implemented logistic regression via gradient descent."
      ],
      "metadata": {
        "id": "l7m0YK1ROt0H"
      }
    },
    {
      "cell_type": "code",
      "source": [
        "import numpy as np\n",
        "import matplotlib.pyplot as plt\n",
        "import pandas as pd\n",
        "import os\n",
        "from numpy import ndarray"
      ],
      "metadata": {
        "id": "uFjAzGPfxIu4"
      },
      "execution_count": 1,
      "outputs": []
    },
    {
      "cell_type": "code",
      "source": [
        "NUM_ITER = 1000\n",
        "SHUFFLE_ITER = 100"
      ],
      "metadata": {
        "id": "x96ThBBexJpK"
      },
      "execution_count": 2,
      "outputs": []
    },
    {
      "cell_type": "markdown",
      "source": [
        "## read data and normalize it"
      ],
      "metadata": {
        "id": "N7aiGt4RxK0H"
      }
    },
    {
      "cell_type": "code",
      "source": [
        "def read_data(base_path):\n",
        "    data = pd.read_csv(base_path, header=None).values\n",
        "    normalize_data = np.hstack((normalize_points(data[:, :-1]), np.reshape(data[:, -1], (data.shape[0], 1))))\n",
        "    return normalize_data"
      ],
      "metadata": {
        "id": "FVJ8yGhhxQGW"
      },
      "execution_count": 3,
      "outputs": []
    },
    {
      "cell_type": "markdown",
      "source": [
        "## shuffle data and split it to train data and test data"
      ],
      "metadata": {
        "id": "AJ0IA03nxQjG"
      }
    },
    {
      "cell_type": "code",
      "source": [
        "def split_data(normalize_data):\n",
        "    indices = np.random.permutation(normalize_data.shape[0])\n",
        "    shuffle_data = normalize_data[indices]\n",
        "    len_train_data = int(0.9 * shuffle_data.shape[0])\n",
        "    train_data = shuffle_data[:len_train_data, :]\n",
        "    test_data = shuffle_data[len_train_data:, :]\n",
        "    return train_data, test_data"
      ],
      "metadata": {
        "id": "gaoFtxu0xSlo"
      },
      "execution_count": 4,
      "outputs": []
    },
    {
      "cell_type": "markdown",
      "source": [
        "## normalize given points"
      ],
      "metadata": {
        "id": "gP0R2ybhxViP"
      }
    },
    {
      "cell_type": "code",
      "source": [
        "def normalize_points(points):\n",
        "    min_values = points.min(axis=0)\n",
        "    max_values = points.max(axis=0)\n",
        "    scaled_points = (points - min_values) / (max_values - min_values)\n",
        "    return scaled_points"
      ],
      "metadata": {
        "id": "h27HQ3bDxVrq"
      },
      "execution_count": 5,
      "outputs": []
    },
    {
      "cell_type": "code",
      "source": [
        "def sigmoid(x):\n",
        "    return 1 / (1 + np.exp(-x))"
      ],
      "metadata": {
        "id": "DN9S0v6Jxclm"
      },
      "execution_count": 6,
      "outputs": []
    },
    {
      "cell_type": "markdown",
      "source": [
        "## the logistic regression function, return the w (the line)"
      ],
      "metadata": {
        "id": "XCeBFoIzxgq7"
      }
    },
    {
      "cell_type": "code",
      "source": [
        "def Logistic_regression_via_GD(P: ndarray, y: ndarray, lr: float):\n",
        "    w = np.zeros((P.shape[0] + 1, 1))\n",
        "    m = P.shape[1]\n",
        "    P = np.vstack((P, np.ones((1, m))))\n",
        "    for _ in range(NUM_ITER):\n",
        "        z = np.dot(w.T, P)\n",
        "        a = sigmoid(z)\n",
        "        dz = a - y\n",
        "        dw = np.dot(P, dz.T)\n",
        "        w -= lr * dw\n",
        "\n",
        "    return w"
      ],
      "metadata": {
        "id": "UeAG3wwGxkKT"
      },
      "execution_count": 7,
      "outputs": []
    },
    {
      "cell_type": "markdown",
      "source": [
        "## predict labels of points given w, b (the line)"
      ],
      "metadata": {
        "id": "Za37ORq3xkot"
      }
    },
    {
      "cell_type": "code",
      "source": [
        "def Predict(w, b, p):\n",
        "    z = np.dot(w.T, p) + b\n",
        "    return np.round(sigmoid(z))"
      ],
      "metadata": {
        "id": "t7_5_r7kxpiZ"
      },
      "execution_count": 8,
      "outputs": []
    },
    {
      "cell_type": "markdown",
      "source": [
        "## Plot"
      ],
      "metadata": {
        "id": "c9oCjuFqxs0u"
      }
    },
    {
      "cell_type": "code",
      "source": [
        "def plot(data, labels, w):\n",
        "    fig, ax = plt.subplots()\n",
        "\n",
        "    c0 = data[labels == 0]\n",
        "    c1 = data[labels == 1]\n",
        "\n",
        "    ax.scatter(c0[:, 0], c0[:, 1], c='red')\n",
        "    ax.scatter(c1[:, 0], c1[:, 1], c='blue')\n",
        "\n",
        "    a, b, c = w\n",
        "    m = -a / b\n",
        "    b = -c / b\n",
        "\n",
        "    x = np.arange(np.min(data[:, 0]), np.max(data[:, 0]), 0.1)\n",
        "    y = m * x + b\n",
        "    plt.plot(x, y)\n",
        "\n",
        "    plt.show()"
      ],
      "metadata": {
        "id": "yu5ShCLPxrLi"
      },
      "execution_count": 9,
      "outputs": []
    },
    {
      "cell_type": "code",
      "source": [
        "path = os.path.abspath('exams.csv')\n",
        "average_accuracy = 0\n",
        "data = read_data(path)\n",
        "best_w = np.zeros((data.shape[1], 1))\n",
        "best_accuracy = 0\n",
        "for _ in range(SHUFFLE_ITER):\n",
        "  train_arr, test_arr = split_data(data)\n",
        "\n",
        "  train_points = train_arr[:, :-1].T\n",
        "  train_labels = train_arr[:, -1].T\n",
        "  train_len = train_arr.shape[0]\n",
        "\n",
        "  w = Logistic_regression_via_GD(train_points, train_labels, lr=0.01)\n",
        "\n",
        "  test_points = test_arr[:, :-1].T\n",
        "  test_labels = test_arr[:, -1].T\n",
        "  test_len = test_arr.shape[0]\n",
        "\n",
        "  test_prediction = Predict(w[:-1], w[-1], test_points)\n",
        "  test_accuracy = np.mean(test_prediction == test_labels)\n",
        "  average_accuracy += test_accuracy\n",
        "\n",
        "  if test_accuracy > best_accuracy:\n",
        "    best_w = w\n",
        "    best_accuracy =test_accuracy\n",
        "\n",
        "average_accuracy = average_accuracy / SHUFFLE_ITER\n",
        "print(f'Avg test accuracy: {average_accuracy * 100}%')\n",
        "plot(data[:,:-1], data[:, -1], best_w)"
      ],
      "metadata": {
        "id": "EpVMZXnLPOvo",
        "colab": {
          "base_uri": "https://localhost:8080/",
          "height": 447
        },
        "outputId": "1f25be3f-8906-43e6-cc2d-517270c4f767"
      },
      "execution_count": 11,
      "outputs": [
        {
          "output_type": "stream",
          "name": "stdout",
          "text": [
            "Avg test accuracy: 88.5%\n"
          ]
        },
        {
          "output_type": "display_data",
          "data": {
            "text/plain": [
              "<Figure size 640x480 with 1 Axes>"
            ],
            "image/png": "[encoded data removed]"
          },
          "metadata": {}
        }
      ]
    }
  ]
}